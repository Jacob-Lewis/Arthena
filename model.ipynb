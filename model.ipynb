{
 "cells": [
  {
   "cell_type": "code",
   "execution_count": 50,
   "metadata": {
    "collapsed": true
   },
   "outputs": [],
   "source": [
    "import numpy as np\n",
    "from sklearn import linear_model\n",
    "from sklearn import metrics\n",
    "from time import time\n",
    "import pandas as pd\n",
    "from sklearn.model_selection import train_test_split"
   ]
  },
  {
   "cell_type": "code",
   "execution_count": 51,
   "metadata": {},
   "outputs": [
    {
     "name": "stdout",
     "output_type": "stream",
     "text": [
      "(104426,)\n"
     ]
    }
   ],
   "source": [
    "df = pd.read_csv(\"dataV1c.csv\", encoding=\"latin-1\")\n",
    "y = df.USD_value\n",
    "print(y.shape)"
   ]
  },
  {
   "cell_type": "code",
   "execution_count": 52,
   "metadata": {},
   "outputs": [
    {
     "name": "stdout",
     "output_type": "stream",
     "text": [
      "['artist_birth_year', 'artist_death_year', 'artist_name', 'artist_nationality', 'auction_date', 'category', 'USD_value', 'location', 'measurement_depth_cm', 'measurement_height_cm', 'measurement_width_cm', 'year_of_execution', 'alive']\n",
      "(104426, 13)\n",
      "[1955 'Roni Horn' 'American' 'Sculpture' 'London' 0 2 6.0 1989 True 2011 6]\n"
     ]
    }
   ],
   "source": [
    "features = list(df)\n",
    "print(features)\n",
    "df = df.as_matrix()\n",
    "print(df.shape)\n",
    "\n",
    "dates = []\n",
    "for i in range(len(y)):\n",
    "    dates.append(df[i,4])\n",
    "\n",
    "years = []\n",
    "months = []\n",
    "for i in range(len(dates)):\n",
    "    years.append(int(dates[i][:4]))\n",
    "    months.append(int(dates[i][5:7]))\n",
    "\n",
    "years = np.reshape(np.asarray(years), (-1,1))\n",
    "months = np.reshape(np.asarray(months), (-1,1))\n",
    "\n",
    "df = np.column_stack([df, years, months])\n",
    "\n",
    "\n",
    "df = np.delete(df, np.s_[1,4,6], axis=1)\n",
    "print(df[0])\n",
    "# y = pd.DataFrame(y)\n",
    "# y.to_csv(\"y.csv\")"
   ]
  },
  {
   "cell_type": "code",
   "execution_count": 47,
   "metadata": {},
   "outputs": [],
   "source": [
    "df = pd.DataFrame(df)\n",
    "df = pd.get_dummies(df, columns=[1,2,3,4,9])\n",
    "df.rename(index=str, columns={0: \"artist_birth_year\", 5: \"depth\", 6: \"height\", 7: \"width\", 8:\"year_of_execution\", 10: \"auction_year\", 11: \"auction_month\"})\n",
    "# df.to_csv(\"file_path.csv\")"
   ]
  },
  {
   "cell_type": "code",
   "execution_count": 48,
   "metadata": {},
   "outputs": [
    {
     "name": "stdout",
     "output_type": "stream",
     "text": [
      "{'alpha': 0.5, 'copy_X': True, 'fit_intercept': True, 'max_iter': None, 'normalize': False, 'random_state': None, 'solver': 'auto', 'tol': 0.001}\n"
     ]
    },
    {
     "data": {
      "text/plain": [
       "0.085663956184339973"
      ]
     },
     "execution_count": 48,
     "metadata": {},
     "output_type": "execute_result"
    }
   ],
   "source": [
    "X_train, X_test, y_train, y_test = train_test_split(df, y, test_size=0.33, random_state=42)\n",
    "clf = linear_model.Ridge(alpha=.5)\n",
    "clf.fit(X_train, y_train)\n",
    "print(clf.get_params())\n",
    "clf.score(X_test, y_test)"
   ]
  },
  {
   "cell_type": "code",
   "execution_count": null,
   "metadata": {
    "collapsed": true
   },
   "outputs": [],
   "source": []
  }
 ],
 "metadata": {
  "kernelspec": {
   "display_name": "Python 3",
   "language": "python",
   "name": "python3"
  },
  "language_info": {
   "codemirror_mode": {
    "name": "ipython",
    "version": 3
   },
   "file_extension": ".py",
   "mimetype": "text/x-python",
   "name": "python",
   "nbconvert_exporter": "python",
   "pygments_lexer": "ipython3",
   "version": "3.6.1"
  }
 },
 "nbformat": 4,
 "nbformat_minor": 2
}
