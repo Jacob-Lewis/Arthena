{
 "cells": [
  {
   "cell_type": "code",
   "execution_count": 70,
   "metadata": {
    "collapsed": true
   },
   "outputs": [],
   "source": [
    "#Import required packages\n",
    "import numpy as np\n",
    "from sklearn import linear_model\n",
    "from sklearn import metrics\n",
    "from time import time\n",
    "import pandas as pd\n",
    "from sklearn.model_selection import train_test_split\n",
    "import math\n",
    "import matplotlib.pyplot as plt\n",
    "import pickle"
   ]
  },
  {
   "cell_type": "markdown",
   "metadata": {},
   "source": [
    "Question 1"
   ]
  },
  {
   "cell_type": "markdown",
   "metadata": {},
   "source": []
  },
  {
   "cell_type": "markdown",
   "metadata": {},
   "source": [
    "Question 2"
   ]
  },
  {
   "cell_type": "markdown",
   "metadata": {},
   "source": [
    "As mentioned in the wiki article on uncertainty quantification: \"in regression analysis and least squares problems, the standard error of parameter estimates is readily available, which can be expanded into a confidence interval.\" This calculation is straightforward, and will not be shown here."
   ]
  },
  {
   "cell_type": "markdown",
   "metadata": {},
   "source": [
    "Quesition 3"
   ]
  },
  {
   "cell_type": "code",
   "execution_count": 45,
   "metadata": {},
   "outputs": [],
   "source": [
    "lewitts = pd.read_csv(\"Lewitt.csv\", encoding=\"latin-1\")\n",
    "lewitts.auction_date = pd.to_datetime(lewitts.auction_date,infer_datetime_format=True)#convert to datetime"
   ]
  },
  {
   "cell_type": "code",
   "execution_count": 48,
   "metadata": {
    "scrolled": true
   },
   "outputs": [
    {
     "data": {
      "image/png": "[encoded data removed]",
      "text/plain": [
       "<matplotlib.figure.Figure at 0x11331ca20>"
      ]
     },
     "metadata": {},
     "output_type": "display_data"
    }
   ],
   "source": [
    "plt.plot(list(lewitts.auction_date), list(lewitts.hammer_price),'ro')\n",
    "plt.show()"
   ]
  },
  {
   "cell_type": "markdown",
   "metadata": {},
   "source": [
    "Above graph shows that some Lewitt works took on very inflated prices in the run up to 2008 while others remained depressed. My hypothesis is that this data is comprised of a large mix of originals and prints, accounting for the size of the dataset and the price disparity. After 2008, prices began to rise again in 2014. "
   ]
  },
  {
   "cell_type": "markdown",
   "metadata": {},
   "source": [
    "Question 4"
   ]
  },
  {
   "cell_type": "markdown",
   "metadata": {},
   "source": [
    "I think images of the works could improve the model. Perhaps light colored works sell better than dark colored works, etc. These features could be ascertained using a convolutional neural network."
   ]
  },
  {
   "cell_type": "markdown",
   "metadata": {},
   "source": [
    "Question 5"
   ]
  },
  {
   "cell_type": "markdown",
   "metadata": {},
   "source": [
    "To begin, I would make a correlation plot between hammer price and size(which is a function of height, width, and depth). Additionally, I would look at the value of the coeffecients for height width, and depth. Lastly, my initial consideration would include a plot similar to the above plot, to see if a relationship is visible. "
   ]
  },
  {
   "cell_type": "markdown",
   "metadata": {},
   "source": [
    "Question 6"
   ]
  },
  {
   "cell_type": "markdown",
   "metadata": {},
   "source": [
    "I would look at the correlation between different artists or groups of artists (impressionists, American modern, etc) as well as the correlation between different types of works (painting, sculpture, etc). This effort could be extended across numerous different features using a correlation graph."
   ]
  },
  {
   "cell_type": "code",
   "execution_count": 66,
   "metadata": {
    "collapsed": true
   },
   "outputs": [
    {
     "name": "stdout",
     "output_type": "stream",
     "text": [
      "[[ -1.81973781e+03]\n",
      " [  4.13323137e+02]\n",
      " [  7.31658905e+02]\n",
      " [  1.28567950e+03]\n",
      " [ -2.33253767e+03]\n",
      " [  9.49404604e+03]\n",
      " [  4.50294373e+03]\n",
      " [  2.40173107e+05]\n",
      " [  9.08903543e+04]\n",
      " [ -7.11538244e+04]\n",
      " [ -7.33949079e+04]\n",
      " [  6.37373611e+04]\n",
      " [ -9.85728727e+04]\n",
      " [ -5.54455492e+04]\n",
      " [ -3.05631032e+03]\n",
      " [  3.56287417e+04]\n",
      " [  8.49192958e+04]\n",
      " [  6.50970179e+03]\n",
      " [ -3.50194720e+03]\n",
      " [ -1.20726908e+05]\n",
      " [ -1.25621409e+05]\n",
      " [  2.42068021e+05]\n",
      " [  4.99513313e+04]\n",
      " [ -2.04954466e+05]\n",
      " [ -9.84315887e+04]\n",
      " [  1.06480638e+05]\n",
      " [  1.53811701e+05]\n",
      " [  3.21505629e+04]\n",
      " [ -2.62029159e+04]\n",
      " [  2.11152842e+05]\n",
      " [ -9.09262238e+04]\n",
      " [ -1.10982651e+04]\n",
      " [ -1.66193053e+05]\n",
      " [  1.81261529e+04]\n",
      " [  3.71880034e+04]\n",
      " [ -5.20750141e+04]\n",
      " [  1.05467911e+04]\n",
      " [ -1.13301712e+05]\n",
      " [ -2.01835209e+04]\n",
      " [ -3.37383624e+03]\n",
      " [ -6.30871422e+04]\n",
      " [ -2.48637111e+05]\n",
      " [  1.85122678e+04]\n",
      " [  2.56373102e+04]\n",
      " [  1.26387034e+05]\n",
      " [ -1.40389405e+05]\n",
      " [  1.43749137e+05]\n",
      " [ -1.98777251e+05]\n",
      " [  6.51353214e+03]\n",
      " [ -6.53334841e+04]\n",
      " [  1.65166606e+05]\n",
      " [ -3.75321486e+04]\n",
      " [  8.09666959e+04]\n",
      " [ -1.69846491e+04]\n",
      " [  4.49347641e+05]\n",
      " [ -2.28340544e+05]\n",
      " [ -9.40288412e+04]\n",
      " [ -1.59180673e+05]\n",
      " [ -5.49062591e+03]\n",
      " [  1.31459393e+04]\n",
      " [  2.04935467e+04]\n",
      " [ -2.17503271e+04]\n",
      " [ -5.06005660e+04]\n",
      " [  1.67057592e+05]\n",
      " [  1.48091141e+05]\n",
      " [  3.43329779e+04]\n",
      " [ -4.37148328e+04]\n",
      " [ -4.40513275e+04]\n",
      " [  4.49399091e+04]\n",
      " [ -7.88984502e+04]\n",
      " [ -4.50501449e+04]\n",
      " [ -1.23415317e+05]\n",
      " [  2.43052223e+04]\n",
      " [ -4.75580637e+04]\n",
      " [  2.55325233e+04]\n",
      " [ -1.45058682e+05]\n",
      " [ -2.88654508e+05]\n",
      " [ -6.04849239e+04]\n",
      " [  1.16058771e+05]\n",
      " [ -6.99351159e+04]\n",
      " [ -1.44843874e+05]\n",
      " [  5.84356030e+05]\n",
      " [ -2.96131348e+02]\n",
      " [ -5.37117596e+04]\n",
      " [ -8.84763552e+04]\n",
      " [  4.47179322e+04]\n",
      " [ -9.86069341e+04]\n",
      " [ -7.61548487e+04]\n",
      " [  6.13520042e+04]\n",
      " [  5.31371131e+03]\n",
      " [ -1.11761611e+05]\n",
      " [ -3.33297457e+04]\n",
      " [ -8.09377992e+04]\n",
      " [ -7.89138053e+04]\n",
      " [  9.01879706e+04]\n",
      " [  1.35740666e+04]\n",
      " [  2.25449747e+04]\n",
      " [  1.50378240e+05]\n",
      " [ -7.67576407e+04]\n",
      " [ -1.41977567e+05]\n",
      " [ -5.84873404e+03]\n",
      " [ -1.20959032e+04]\n",
      " [  7.77263925e+05]\n",
      " [ -5.69360250e+04]\n",
      " [ -1.04132749e+05]\n",
      " [ -3.75077652e+04]\n",
      " [  2.62965775e+05]\n",
      " [ -9.08630232e+04]\n",
      " [ -5.68643563e+04]\n",
      " [ -3.49739755e+04]\n",
      " [  2.83373317e+04]\n",
      " [ -6.03586341e+04]\n",
      " [ -1.04029393e+05]\n",
      " [ -5.99704476e+04]\n",
      " [ -4.46927463e+04]\n",
      " [ -2.05280455e+04]\n",
      " [ -1.66725523e+05]\n",
      " [ -2.59690231e+04]\n",
      " [ -3.97692654e+04]\n",
      " [ -6.35787469e+04]\n",
      " [  3.75302237e+05]\n",
      " [ -1.88420062e+05]\n",
      " [  3.33555669e+04]\n",
      " [ -3.17916498e+04]\n",
      " [  2.43855302e+05]\n",
      " [  1.18915081e+05]\n",
      " [  7.88432600e+03]\n",
      " [  2.50570391e+05]\n",
      " [ -3.97692654e+04]\n",
      " [  4.08476682e+04]\n",
      " [ -5.69360250e+04]\n",
      " [  9.08903543e+04]\n",
      " [ -3.79414367e+04]\n",
      " [ -2.17503271e+04]\n",
      " [ -9.90876872e+04]\n",
      " [ -3.37353508e+04]\n",
      " [ -5.06005660e+04]\n",
      " [ -7.42066451e+03]\n",
      " [ -3.17916498e+04]\n",
      " [  6.51353214e+03]\n",
      " [ -3.49739755e+04]\n",
      " [  6.13520042e+04]\n",
      " [ -4.40513275e+04]\n",
      " [ -3.31598617e+04]\n",
      " [ -5.00929101e+04]\n",
      " [  5.24673023e+04]\n",
      " [ -2.79387036e+04]\n",
      " [ -6.60315566e+04]\n",
      " [  9.72075746e+03]\n",
      " [ -4.80622455e+04]\n",
      " [  7.85647720e+04]\n",
      " [  7.91085461e+03]\n",
      " [  8.56743005e+04]\n",
      " [ -5.62510562e+02]\n",
      " [ -9.95856433e+04]\n",
      " [  3.34246707e+04]\n",
      " [  4.85376229e+04]\n",
      " [  9.13315098e+03]\n",
      " [ -5.67089592e+04]\n",
      " [ -9.97437298e+04]\n",
      " [  2.19198358e+04]\n",
      " [ -2.83549203e+04]\n",
      " [ -2.12422617e+04]\n",
      " [  1.16201691e+05]\n",
      " [ -6.93207476e+04]\n",
      " [ -6.39670678e+04]\n",
      " [ -2.32296173e+04]\n",
      " [  9.60319513e+03]\n",
      " [ -2.29360980e+04]\n",
      " [  0.00000000e+00]\n",
      " [ -5.07292106e+04]\n",
      " [ -4.36126651e+04]\n",
      " [ -3.17265667e+04]\n",
      " [ -8.93546376e+04]\n",
      " [  5.38678822e+04]\n",
      " [  9.02832311e+03]\n",
      " [ -5.65233706e+03]\n",
      " [ -3.90196238e+04]\n",
      " [ -1.23803661e+05]\n",
      " [ -6.01875623e+03]\n",
      " [  1.70812809e+05]\n",
      " [ -2.92710455e+04]\n",
      " [  1.17614255e+05]\n",
      " [  6.15078697e+03]\n",
      " [ -7.79503935e+03]\n",
      " [  4.89789650e+04]\n",
      " [  2.07409415e+03]\n",
      " [  6.94751068e+04]\n",
      " [ -2.91747862e+04]\n",
      " [ -6.20811268e+04]\n",
      " [  2.81298378e+04]\n",
      " [  7.03505735e+04]\n",
      " [  0.00000000e+00]\n",
      " [  4.82976399e+04]\n",
      " [  1.02018032e+05]\n",
      " [  0.00000000e+00]\n",
      " [ -5.12274218e+04]\n",
      " [  3.97579525e+03]\n",
      " [ -1.18716039e+05]\n",
      " [ -3.53984430e+04]\n",
      " [  2.22482549e+03]\n",
      " [  2.97616971e+04]\n",
      " [ -3.18698467e+04]\n",
      " [ -4.34130362e+05]\n",
      " [ -5.37638263e+04]\n",
      " [  2.06328400e+04]\n",
      " [ -7.44319529e+04]\n",
      " [ -1.68214980e+05]\n",
      " [  1.17975463e+05]\n",
      " [  0.00000000e+00]\n",
      " [  1.30016610e+05]\n",
      " [  7.56977315e+04]\n",
      " [  3.85167623e+01]\n",
      " [ -1.23251287e+04]\n",
      " [ -7.05212518e+04]\n",
      " [  2.53959180e+03]\n",
      " [ -8.41368943e+04]\n",
      " [ -2.54778379e+04]\n",
      " [  4.40652707e+05]\n",
      " [ -6.50447297e+04]\n",
      " [ -3.11631876e+04]\n",
      " [ -1.05159213e+05]\n",
      " [  1.18108369e+05]\n",
      " [  6.68729535e+03]\n",
      " [  1.19527654e+04]\n",
      " [  8.72812179e+04]\n",
      " [ -4.83927023e+04]\n",
      " [ -4.40227328e+04]\n",
      " [  2.26632067e+04]\n",
      " [  1.08489306e+05]\n",
      " [ -6.17140159e+04]\n",
      " [  3.28308321e+04]\n",
      " [ -4.02778455e+03]\n",
      " [ -1.48305096e+04]\n",
      " [ -6.86598057e+04]\n",
      " [  1.35504453e+04]\n",
      " [ -4.78377213e+04]\n",
      " [  0.00000000e+00]\n",
      " [  4.82820479e+04]\n",
      " [  3.89406981e+04]\n",
      " [ -8.45170261e+04]\n",
      " [  9.80474204e+03]\n",
      " [ -4.56812326e+04]\n",
      " [  0.00000000e+00]\n",
      " [  6.96230220e+01]\n",
      " [ -3.48245234e+04]\n",
      " [ -8.29122198e+04]\n",
      " [  0.00000000e+00]\n",
      " [  4.03384015e+04]\n",
      " [  1.62954355e+04]\n",
      " [  9.61139333e+04]\n",
      " [ -2.81814516e+04]\n",
      " [  4.91626546e+04]\n",
      " [  7.11606146e+04]\n",
      " [  2.89263273e+04]\n",
      " [  8.97580200e+04]\n",
      " [ -3.18279867e+04]\n",
      " [ -4.52362339e+04]\n",
      " [  0.00000000e+00]\n",
      " [ -2.85764498e+04]\n",
      " [ -1.98079084e+04]\n",
      " [ -3.96989150e+04]\n",
      " [  1.85431750e+04]\n",
      " [  0.00000000e+00]\n",
      " [  4.35734286e+04]\n",
      " [  2.29874771e+04]\n",
      " [ -8.57830983e+04]\n",
      " [  1.29487216e+03]\n",
      " [ -6.78820857e+04]\n",
      " [ -7.46369748e+04]\n",
      " [  4.11149558e+03]\n",
      " [ -3.89881284e+04]\n",
      " [  1.27400210e+03]\n",
      " [ -3.82175482e+04]\n",
      " [  4.53593510e+04]\n",
      " [ -4.95485941e+04]\n",
      " [  2.38268553e+04]\n",
      " [  4.10771864e+04]\n",
      " [  7.26401471e+04]\n",
      " [  2.05765551e+04]\n",
      " [  8.90436126e+04]\n",
      " [  2.77873215e+04]\n",
      " [  0.00000000e+00]\n",
      " [ -1.18004272e+05]\n",
      " [ -4.23279193e+04]\n",
      " [  2.51408482e+04]\n",
      " [  2.32738927e+04]\n",
      " [  6.57414625e+04]\n",
      " [  0.00000000e+00]\n",
      " [ -2.26250157e+04]\n",
      " [  2.03500350e+04]\n",
      " [  0.00000000e+00]\n",
      " [ -3.62444667e+04]\n",
      " [  3.36573182e+03]\n",
      " [ -1.10993845e+05]\n",
      " [  2.34825346e+04]\n",
      " [  2.65514454e+04]\n",
      " [  8.65658055e+04]\n",
      " [ -1.48762533e+05]\n",
      " [ -3.32273922e+04]\n",
      " [  3.50495831e+03]\n",
      " [  2.40415459e+04]\n",
      " [  1.75666914e+04]\n",
      " [ -5.76187220e+04]\n",
      " [  1.56345584e+05]\n",
      " [ -5.53640727e+04]\n",
      " [ -5.04940894e+04]\n",
      " [ -7.13256458e+04]\n",
      " [  9.00397897e+04]\n",
      " [  1.56201893e+05]\n",
      " [  6.62708603e+04]\n",
      " [ -1.99397458e+05]\n",
      " [ -4.69391011e+04]\n",
      " [  6.21958900e+04]\n",
      " [ -3.32299077e+03]\n",
      " [ -2.55955274e+04]\n",
      " [  1.47031886e+04]\n",
      " [  6.71865558e+04]\n",
      " [  4.78888550e+04]\n",
      " [  6.86797640e+04]\n",
      " [ -1.74889812e+04]\n",
      " [  4.10520463e+04]\n",
      " [ -6.24313501e+04]\n",
      " [  1.27590115e+05]\n",
      " [  0.00000000e+00]\n",
      " [  4.22683881e+04]\n",
      " [  1.07917817e+04]\n",
      " [  1.72204735e+04]\n",
      " [  5.91856286e+04]\n",
      " [  5.34560325e+04]\n",
      " [  2.00569883e+05]\n",
      " [ -1.71657712e+04]\n",
      " [ -4.33070930e+04]\n",
      " [  5.03493605e+04]\n",
      " [ -2.22800743e+05]\n",
      " [  7.17036609e+04]\n",
      " [ -8.40157055e+04]\n",
      " [ -1.26116242e+04]\n",
      " [  1.96755890e+05]\n",
      " [  2.06508335e+04]\n",
      " [ -3.56471039e+04]\n",
      " [ -6.56417058e+04]\n",
      " [  5.80562784e+04]\n",
      " [ -3.35269770e+04]\n",
      " [  4.95750389e+04]\n",
      " [  0.00000000e+00]\n",
      " [  1.26574792e+04]\n",
      " [ -8.77454592e+04]\n",
      " [ -3.53469765e+04]\n",
      " [  1.29532798e+04]\n",
      " [  1.17658760e+04]\n",
      " [  6.56980922e+04]\n",
      " [  0.00000000e+00]\n",
      " [ -2.57615467e+04]\n",
      " [ -2.63384573e+04]\n",
      " [  1.71917365e+05]\n",
      " [  3.80443378e+04]\n",
      " [  3.81785458e+04]\n",
      " [  9.91510684e+03]\n",
      " [  5.35487963e+04]\n",
      " [  8.39326724e+04]\n",
      " [  0.00000000e+00]\n",
      " [ -2.64440177e+04]\n",
      " [ -9.42683854e+03]\n",
      " [  3.51531621e+04]\n",
      " [  1.27632304e+04]\n",
      " [ -4.25906110e+04]\n",
      " [ -2.53408447e+04]\n",
      " [  3.43465639e+03]\n",
      " [ -3.48910806e+04]\n",
      " [ -1.06944421e+05]\n",
      " [ -2.08897580e+05]\n",
      " [  2.67905992e+04]\n",
      " [ -1.03709033e+05]\n",
      " [  7.58204309e+04]\n",
      " [ -9.73105898e+02]\n",
      " [  9.73105898e+02]]\n"
     ]
    }
   ],
   "source": [
    "#import coefficients\n",
    "def loadCoef():\n",
    "    coef = pd.read_csv(\"coef1.csv\")\n",
    "    coef = coef.as_matrix()\n",
    "    coef = np.delete(coef, np.s_[0], axis =1)\n",
    "    return coef"
   ]
  },
  {
   "cell_type": "code",
   "execution_count": null,
   "metadata": {},
   "outputs": [
    {
     "name": "stdout",
     "output_type": "stream",
     "text": [
      "['artist_birth_year', 'artist_death_year', 'artist_name', 'artist_nationality', 'auction_date', 'category', 'currency', 'edition', 'estimate_high', 'estimate_low', 'hammer_price', 'location', 'materials', 'measurement_depth_cm', 'measurement_height_cm', 'measurement_width_cm', 'title', 'year_of_execution']\n"
     ]
    }
   ],
   "source": [
    "def initilializeData():\n",
    "    dfInit = pd.read_csv(\"data.csv\", encoding = \"latin-1\")\n",
    "    yInit = dfInit.hammer_price\n",
    "    dfInit.auction_date = pd.to_datetime(dfInit.auction_date,infer_datetime_format=True)#convert to datetime\n",
    "    print(list(dfInit))\n",
    "    dfInit = dfInit.as_matrix()\n",
    "    dfInit = pd.DataFrame(dfInit)\n",
    "    dfInit = pd.get_dummies(dfInit, columns=[2,3,5,6,7,10,11,16])\n",
    "    print(dfInit.head)\n",
    "    \n",
    "initilializeData()\n"
   ]
  },
  {
   "cell_type": "code",
   "execution_count": null,
   "metadata": {
    "collapsed": true
   },
   "outputs": [],
   "source": [
    "def initializeModel(data):\n",
    "    clf = linear_model.Ridge(alpha=.5)"
   ]
  },
  {
   "cell_type": "code",
   "execution_count": null,
   "metadata": {
    "collapsed": true
   },
   "outputs": [],
   "source": [
    "#Read in data\n",
    "def read(file):\n",
    "    df = pd.read_csv(file, encoding=\"latin-1\")\n",
    "    y = df.hammer_price #seperate target variable\n",
    "    df.auction_date = pd.to_datetime(df.auction_date,infer_datetime_format=True)#convert to datetime\n",
    "    return(df, y)"
   ]
  },
  {
   "cell_type": "code",
   "execution_count": null,
   "metadata": {
    "collapsed": true
   },
   "outputs": [],
   "source": [
    "def rmse(y_hat, y):\n",
    "    error = math.sqrt(math.pow((y_hat[i]-y[i]),2))\n",
    "    return error"
   ]
  },
  {
   "cell_type": "code",
   "execution_count": null,
   "metadata": {
    "collapsed": true
   },
   "outputs": [],
   "source": [
    "def predict(file):\n",
    "    files = read(file)\n",
    "    x = files[0]\n",
    "    y = files[1]\n",
    "    y = y.as_matrix()\n",
    "    coef = loadCoef()\n",
    "    for i in range(len(y)):\n",
    "        \n"
   ]
  }
 ],
 "metadata": {
  "kernelspec": {
   "display_name": "Python 3",
   "language": "python",
   "name": "python3"
  },
  "language_info": {
   "codemirror_mode": {
    "name": "ipython",
    "version": 3
   },
   "file_extension": ".py",
   "mimetype": "text/x-python",
   "name": "python",
   "nbconvert_exporter": "python",
   "pygments_lexer": "ipython3",
   "version": "3.6.1"
  }
 },
 "nbformat": 4,
 "nbformat_minor": 2
}
